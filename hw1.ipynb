{
 "cells": [
  {
   "cell_type": "markdown",
   "metadata": {
    "colab_type": "text",
    "id": "XIMmOKGwgAyI"
   },
   "source": [
    "**Information Retrieval 1 2017-2018 Homework 1**\n",
    "Team-members:\n",
    "Julian Schoep (student-number: 10628126),\n",
    "Nichita Diaconu (student-number: 11737980), \n",
    "Radu Sibechi (student-number: 11808527), "
   ]
  },
  {
   "cell_type": "markdown",
   "metadata": {
    "colab_type": "text",
    "id": "pn98K_-q9hfL"
   },
   "source": [
    "##Theoretical Part"
   ]
  },
  {
   "cell_type": "markdown",
   "metadata": {
    "colab_type": "text",
    "id": "LIGaBWig9hrY"
   },
   "source": [
    "\n",
    "\n",
    "1  P(mth experiment gives significant result | m experiments lacking power to reject H0) = $1\\alpha(1-\\alpha)^m$ <br>\n",
    "   P(at least one significant result | m experiments lacking power to reject H0) = $1 - P($no significant result$) = 1 - (1 - \\alpha)^m$\n",
    "   "
   ]
  },
  {
   "cell_type": "markdown",
   "metadata": {
    "colab_type": "text",
    "id": "2VuFlBxU9ssH"
   },
   "source": [
    "\n",
    "\n",
    "2 Let's assume we have 5 documents, mainly A,B,C,D and E. Furthermore, let us assume that only 3 documents are of interest for the user with the following probabilities of being clicked: A = 48%, B = 48%, C= 4% while the others have 0%\n",
    "\n",
    "Considering that the first algorithm (X) returns A,B,D,C,E while the second algorithm returns (Y) B,C,D,E,A. It is clearly visible that the first algorithm's results are much better than the second's algorithm results, because the first 2 results of X are the most interesting articles to the user, while A is at the bottom for Y.\n",
    "\n",
    "* If X wins every coin toss then the interleaved list will look like: A, B, D, C, E with B,C being in team Y. \n",
    "* If Y wins every coin toss then the interleaved list will look like: B, A, C, D, E with B,C and E being in team Y \n",
    "\n",
    "From the examles above we can see that the interesting coin tosses are the first 2 ones as they contain all the documents that are going to be clicked by the user (and a document can only pertain to one team, unlike in balanced interleaving). As such we can ommit the third coin toss as it only assigns E (which has 0% probability of being clicked) to one of the two teams.\n",
    "\n",
    "* If X wins first coin toss, X wins second coin toss => A,B,D,C with B,C being in team Y\n",
    "* If X wins first coin toss, Y wins second coin toss => A,B,C,D with B,C being in team Y\n",
    "* If Y wins first coin toss, Y wins second coin toss => B,A,C,D with B,C being in team Y\n",
    "* If Y wins first coin toss, Y wins second coin toss => B,A,D,C with B,C being in team Y\n",
    "\n",
    "As such, regardless of the coin toss, B and C will always be in team Y and as such Y will have a better chance of winning than X which only contains A which is of relevance, even though Y returned an obviously worse ranking\n"
   ]
  },
  {
   "cell_type": "markdown",
   "metadata": {
    "colab_type": "text",
    "id": "R1l-XeHT-PSa"
   },
   "source": [
    "##Experimental Part"
   ]
  },
  {
   "cell_type": "markdown",
   "metadata": {
    "colab_type": "text",
    "id": "xs6auIpX9xV_"
   },
   "source": []
  },
  {
   "cell_type": "code",
   "execution_count": 4,
   "metadata": {
    "colab": {
     "autoexec": {
      "startup": false,
      "wait_interval": 0
     }
    },
    "colab_type": "code",
    "id": "QFX6nAjP-bOD"
   },
   "outputs": [],
   "source": [
    "import itertools as it\n",
    "import numpy as np\n",
    "import abc\n",
    "import matplotlib.mlab as mlab\n",
    "import matplotlib.pyplot as plt\n",
    "from collections import defaultdict\n",
    "from scipy.stats import binom"
   ]
  },
  {
   "cell_type": "markdown",
   "metadata": {
    "colab_type": "text",
    "id": "85wsVfCxa_ki"
   },
   "source": [
    "###Step 1: Simulate Rankings of Relevance for E and P"
   ]
  },
  {
   "cell_type": "code",
   "execution_count": 5,
   "metadata": {
    "colab": {
     "autoexec": {
      "startup": false,
      "wait_interval": 0
     }
    },
    "colab_type": "code",
    "id": "KWOw21Bjfes5"
   },
   "outputs": [],
   "source": [
    "def simulate_rankings(n=5000):\n",
    "    '''\n",
    "    if n is 0:\n",
    "        returns all possible pairs of length 5 and 5\n",
    "    \n",
    "    if n > 0 of not specified (default is n=5000):\n",
    "        returns n pairs randomly chosen from the set of all pairs\n",
    "    '''\n",
    "    R_M = ['N','R','HR'] # Relevance measures\n",
    "    possible_rankings = list(it.product(R_M,repeat=5)) # Produces cartesian product of relevance measures, repeated 5 times\n",
    "    \n",
    "    ranking_pairs = it.permutations(possible_rankings,2)\n",
    "    E_rankings = []\n",
    "    P_rankings = []\n",
    "    notated_pairs = []\n",
    "    #print(len(list(ranking_pairs)))\n",
    "    for pair in ranking_pairs:\n",
    "        P_ranking, E_ranking = pair    \n",
    "        d = {}\n",
    "        d.update({'P':P_ranking})\n",
    "        d.update({'E':E_ranking})\n",
    "        notated_pairs.append(d)\n",
    "    if not n: \n",
    "      samples = notated_pairs\n",
    "    else:\n",
    "      samples = np.random.choice(notated_pairs,n)\n",
    "      \n",
    "    P_rankings = []\n",
    "    E_rankings = []\n",
    "    \n",
    "    for sample in samples:\n",
    "        P_rankings.append(sample['P'])\n",
    "        E_rankings.append(sample['E'])\n",
    "    \n",
    "    return (P_rankings, E_rankings)\n",
    "  \n"
   ]
  },
  {
   "cell_type": "markdown",
   "metadata": {
    "colab_type": "text",
    "id": "1cAR29kZbGO4"
   },
   "source": [
    "###Step 2: Implement Evaluation Measures"
   ]
  },
  {
   "cell_type": "code",
   "execution_count": 6,
   "metadata": {
    "colab": {
     "autoexec": {
      "startup": false,
      "wait_interval": 0
     }
    },
    "colab_type": "code",
    "id": "K5eZiUI9uxDi"
   },
   "outputs": [],
   "source": [
    "# Helper function assigning a value to relevance tags.\n",
    "\n",
    "def get_relevance(document_relevance):\n",
    "    relevance = {\n",
    "        'N' : 0,\n",
    "        'R' : 1,\n",
    "        'HR': 1,\n",
    "    }\n",
    "    return relevance[document_relevance]"
   ]
  },
  {
   "cell_type": "code",
   "execution_count": 7,
   "metadata": {
    "colab": {
     "autoexec": {
      "startup": false,
      "wait_interval": 0
     }
    },
    "colab_type": "code",
    "id": "MsybTARkbKgx"
   },
   "outputs": [],
   "source": [
    "#Step 2.A\n",
    "def precision_k(result):\n",
    "    # result is the tags (R, N, HR) of the top 5 documents returned by an algorithm\n",
    "    # example result: ('R','R','N','R','HR')\n",
    "\n",
    "    a = 0\n",
    "    b = 0 # (precision at rank k) = a / b\n",
    "  \n",
    "    for d_r in result:\n",
    "        relevance = get_relevance(d_r)\n",
    "        a += relevance\n",
    "        b += 1\n",
    "  \n",
    "    return a / b\n",
    "  \n",
    "  \n"
   ]
  },
  {
   "cell_type": "code",
   "execution_count": 8,
   "metadata": {
    "colab": {
     "autoexec": {
      "startup": false,
      "wait_interval": 0
     }
    },
    "colab_type": "code",
    "id": "yqG8uphzeKTn"
   },
   "outputs": [],
   "source": [
    "#Step 2.B Normalized Discounted Cumulative Gain (nDCG)\n",
    "\n",
    "def nDCG_k(result, k): \n",
    "    # For normalizing we need the best possible DCG result, which is\n",
    "    # a high relevant (HR) at rank 1.\n",
    "    perfect_DCG = (2**get_relevance('HR')-1)/np.log2(1 + 1)\n",
    "    \n",
    "    # result is the tags (R, N, HR) of the top 5 documents returned by an algorithm\n",
    "    # example result: ('R','R','N','R','HR')\n",
    "    # k is the particular rank at which the total accumulated gain is calculated\n",
    "    nDCG_k =0 #nDCG at rank k\n",
    "    for rank in range(k): # for all ranks up to and including k\n",
    "        rank_k_result = result[rank] # returns the top k results\n",
    "        rel = get_relevance(rank_k_result)\n",
    "        nonlinear_gain = 2**rel\n",
    "        discount = np.log2(1+rank+1)\n",
    "        nDCG_k += ((nonlinear_gain -1)/discount)/perfect_DCG\n",
    "    return nDCG_k\n",
    "  \n",
    "\n"
   ]
  },
  {
   "cell_type": "code",
   "execution_count": 9,
   "metadata": {
    "colab": {
     "autoexec": {
      "startup": false,
      "wait_interval": 0
     },
     "base_uri": "https://localhost:8080/",
     "height": 34,
     "output_extras": [
      {
       "item_id": 1
      }
     ]
    },
    "colab_type": "code",
    "executionInfo": {
     "elapsed": 498,
     "status": "ok",
     "timestamp": 1516214903308,
     "user": {
      "displayName": "Nichita Diaconu",
      "photoUrl": "//lh4.googleusercontent.com/-L_14SnBPff8/AAAAAAAAAAI/AAAAAAAABU4/ZCpNHv6ApOg/s50-c-k-no/photo.jpg",
      "userId": "108913819228217065637"
     },
     "user_tz": -60
    },
    "id": "mbmn7ZynhtLJ",
    "outputId": "2758f75e-7458-4b47-ea68-86aeb666d4f8"
   },
   "outputs": [],
   "source": [
    "#Step 2.C Expected Reciprocal Rank\n",
    "\n",
    "def ERR(result):\n",
    "    # The expected reciprocal rank. The expectation over all ranks of the reciprocal rank\n",
    "    \n",
    "    # satisfaction of a document  = ( 2**relevance(decoument) - 1 ) / 2**max(relevance)\n",
    "    # expectation of reciprocal rank = sum_over_all_ranks_r ( 1/rank_r * probability_of stopping_at_rank_r )\n",
    "    # probability of stopping at rank_r = product_over_ranks_1_to_r_rr ( 1-probability_of_stopping_at_rank_rr ) * probability_of_stopping_at_rank_r\n",
    "    sum = 0\n",
    "    relevance_result = np.zeros(shape=(len(result)))\n",
    "    for idx,res in enumerate(result):\n",
    "        relevance = get_relevance(res)\n",
    "        relevance_result[idx] = ( (2**relevance - 1 ) / 2 ** get_relevance('HR') )\n",
    "        \n",
    "    p = 1\n",
    "    for r in range(len(result)):\n",
    "        R = relevance_result[r]\n",
    "        sum += p * R / (r+1)\n",
    "        p = p * (1 - R)\n",
    "    return sum\n"
   ]
  },
  {
   "cell_type": "markdown",
   "metadata": {
    "colab_type": "text",
    "id": "a46TwnaqyleI"
   },
   "source": [
    "###Step 3: Calculate 𝛥measure"
   ]
  },
  {
   "cell_type": "code",
   "execution_count": 10,
   "metadata": {
    "colab": {
     "autoexec": {
      "startup": false,
      "wait_interval": 0
     }
    },
    "colab_type": "code",
    "id": "xGW_ikZJ11Tb"
   },
   "outputs": [],
   "source": [
    "# DATASET FOR STEP 3:\n",
    "P_rankings, E_rankings = simulate_rankings() # define global simulated P and E rankings\n"
   ]
  },
  {
   "cell_type": "code",
   "execution_count": 11,
   "metadata": {
    "colab": {
     "autoexec": {
      "startup": false,
      "wait_interval": 0
     }
    },
    "colab_type": "code",
    "id": "JLAygmgjyw2x"
   },
   "outputs": [],
   "source": [
    "# Precision@k\n",
    "\n",
    "def precision_measure_difference(P_rankings, E_rankings):\n",
    "    # Precision at rank k\n",
    "    delta_measure = 0\n",
    "    resulting_P = []\n",
    "    resulting_E = []\n",
    "    \n",
    "    for i in range(len(P_rankings)):\n",
    "        p_measure = precision_k(P_rankings[i])\n",
    "        e_measure = precision_k(E_rankings[i])\n",
    "        if p_measure < e_measure:\n",
    "            delta_measure += e_measure - p_measure\n",
    "            resulting_P.append(P_rankings[i])\n",
    "            resulting_E.append(E_rankings[i])\n",
    "            \n",
    "    return delta_measure, resulting_E, resulting_P\n",
    "  \n",
    "d_measure, precision_dataset_E, precision_dataset_P = precision_measure_difference(P_rankings, E_rankings)\n",
    "\n",
    "precision_dataset = precision_dataset_E, precision_dataset_P\n"
   ]
  },
  {
   "cell_type": "code",
   "execution_count": 12,
   "metadata": {
    "colab": {
     "autoexec": {
      "startup": false,
      "wait_interval": 0
     }
    },
    "colab_type": "code",
    "id": "i7EwCXyqy0kR"
   },
   "outputs": [],
   "source": [
    "# Discounted Cumulative Gain\n",
    "# DCG_5 is calculated\n",
    "\n",
    "\n",
    "def DCG_measure_difference(P_rankings, E_rankings, DCG_rank):\n",
    "  \n",
    "  delta_measure = 0\n",
    "  resulting_P = []\n",
    "  resulting_E = []\n",
    "  for i in range(len(P_rankings)):\n",
    "      p_measure = nDCG_k(P_rankings[i],DCG_rank)\n",
    "      e_measure = nDCG_k(E_rankings[i],DCG_rank)\n",
    "      # print(\"P measure: {} E measure: {}\".format(p_measure,e_measure))\n",
    "      if p_measure < e_measure:\n",
    "        delta_measure += e_measure - p_measure\n",
    "        resulting_P.append(P_rankings[i])\n",
    "        resulting_E.append(E_rankings[i])\n",
    "      # print(\"Delta measure {}\".format(delta_measure))\n",
    "  return delta_measure, resulting_E, resulting_P\n",
    "\n",
    "d_measure, DCG_dataset_E, DCG_dataset_P = DCG_measure_difference(P_rankings,E_rankings,5)\n",
    "\n",
    "DCG_dataset = DCG_dataset_E, DCG_dataset_P\n"
   ]
  },
  {
   "cell_type": "code",
   "execution_count": 13,
   "metadata": {
    "colab": {
     "autoexec": {
      "startup": false,
      "wait_interval": 0
     }
    },
    "colab_type": "code",
    "id": "u6mqjgiV79OY"
   },
   "outputs": [],
   "source": [
    "#ERR\n",
    "\n",
    "def ERR_measure_difference(P_rankings, E_rankings):\n",
    "  delta_measure = 0\n",
    "  resulting_P = []\n",
    "  resulting_E = []\n",
    "  for i in range(len(P_rankings)):\n",
    "      p_measure = ERR(P_rankings[i])\n",
    "      e_measure = ERR(E_rankings[i])\n",
    "      #print(\"P measure: {} E measure: {}\".format(p_measure,e_measure))\n",
    "      if p_measure < e_measure:\n",
    "        delta_measure += e_measure - p_measure\n",
    "        resulting_P.append(P_rankings[i])\n",
    "        resulting_E.append(E_rankings[i])\n",
    "      #print(\"Delta measure {}\".format(delta_measure))\n",
    "  return delta_measure,resulting_E, resulting_P\n",
    "d_measure, ERR_dataset_E, ERR_dataset_P = ERR_measure_difference(P_rankings,E_rankings)\n",
    "ERR_dataset = ERR_dataset_E, ERR_dataset_P"
   ]
  },
  {
   "cell_type": "markdown",
   "metadata": {
    "colab_type": "text",
    "id": "SGF3Cg2i4_3r"
   },
   "source": [
    "###Step 4: Implement Interleaving "
   ]
  },
  {
   "cell_type": "code",
   "execution_count": 14,
   "metadata": {
    "colab": {
     "autoexec": {
      "startup": false,
      "wait_interval": 0
     }
    },
    "colab_type": "code",
    "id": "Cf7Pkcc09NCi"
   },
   "outputs": [],
   "source": [
    "# global variable to generate unique id's\n",
    "doc_id_counter = 0\n",
    "\n",
    "class RankedDocument:\n",
    "    doc_id = None # unique doc id\n",
    "    source_ids = None # who added this document (usefull for interleaving)\n",
    "    relevance_label = None\n",
    "\n",
    "    def __init__(self, label, source_id=None, id=None):\n",
    "        if id:\n",
    "            self.doc_id = id\n",
    "        else:\n",
    "            self.doc_id = self.generate_id()\n",
    "        self.relevance_label = label\n",
    "        self.source_ids = []\n",
    "\n",
    "        if source_id:\n",
    "            self.source_ids.append(source_id)\n",
    "\n",
    "    def generate_id(self):\n",
    "        global doc_id_counter\n",
    "        doc_id_counter += 1\n",
    "        return doc_id_counter\n",
    "    \n",
    "    def get_id(self):\n",
    "        return self.doc_id\n",
    "\n",
    "    def add_source(self, source_id):\n",
    "        self.source_ids.append(source_id)\n",
    "\n",
    "    def get_source(self):\n",
    "        if len(self.source_ids) == 1:\n",
    "            return self.source_ids[0]\n",
    "        else:\n",
    "            return self.source_ids\n",
    "\n",
    "    def get_relevance(self):\n",
    "        return self.relevance_label\n",
    "\n",
    "    def set_relevance(self, relevance_label):\n",
    "        self.relevance_label = relevance_label\n",
    "\n",
    "    def __repr__(self):\n",
    "        return \"\" + str(self.doc_id) + \"-source : \" + \",\".join(self.source_ids)\n"
   ]
  },
  {
   "cell_type": "code",
   "execution_count": 15,
   "metadata": {
    "colab": {
     "autoexec": {
      "startup": false,
      "wait_interval": 0
     },
     "base_uri": "https://localhost:8080/",
     "height": 67,
     "output_extras": [
      {
       "item_id": 1
      }
     ]
    },
    "colab_type": "code",
    "executionInfo": {
     "elapsed": 451,
     "status": "ok",
     "timestamp": 1516214908487,
     "user": {
      "displayName": "Nichita Diaconu",
      "photoUrl": "//lh4.googleusercontent.com/-L_14SnBPff8/AAAAAAAAAAI/AAAAAAAABU4/ZCpNHv6ApOg/s50-c-k-no/photo.jpg",
      "userId": "108913819228217065637"
     },
     "user_tz": -60
    },
    "id": "KGCOc823rBey",
    "outputId": "2fb8e4a6-390b-4b53-c644-ff5783a9ae9e"
   },
   "outputs": [],
   "source": [
    "class InterleavingAlgorithm():\n",
    "    @staticmethod\n",
    "    def perform_interleaving(self):\n",
    "        raise NotImplementedError\n",
    "        \n",
    "    '''\n",
    "    Given a ranked document id, returns the index of the document in the haystack or false if it's not in the haystack\n",
    "    '''\n",
    "    @staticmethod\n",
    "    def get_rd_index_from_list(ranked_document_id, haystack):\n",
    "        for i in range(len(haystack)):\n",
    "            if haystack[i].get_id() == ranked_document_id:\n",
    "                return i\n",
    "\n",
    "        return False\n",
    "\n",
    "    '''\n",
    "     Checks if the haystack contains all the needles or not.\n",
    "    '''\n",
    "\n",
    "    @staticmethod\n",
    "    def not_fully_contained(needles, haystack):\n",
    "        for needle in needles:\n",
    "            if InterleavingAlgorithm.get_rd_index_from_list(needle.get_id(), haystack) is False:\n",
    "                return True\n",
    "\n",
    "        return False\n",
    "\n",
    "    '''\n",
    "    Returns the index of the first needle not contained in the haystack\n",
    "    '''\n",
    "    @staticmethod\n",
    "    def index_top_result_not_contained(needles, haystack):\n",
    "        for index, needle in enumerate(needles):\n",
    "            if InterleavingAlgorithm.get_rd_index_from_list(needle.get_id(), haystack) is False:\n",
    "                return index\n",
    "\n",
    "        return False\n",
    "\n",
    "\n",
    "class BalancedInterleaving(InterleavingAlgorithm):\n",
    "    \n",
    "    @staticmethod\n",
    "    def perform_interleaving(A, B):\n",
    "        interleaving = []\n",
    "        k_a = 0\n",
    "        k_b = 0\n",
    "\n",
    "        a_first = np.random.randint(2)\n",
    "\n",
    "        while k_a <= len(A) - 1 and k_b <= len(B) - 1:\n",
    "            if (k_a < k_b) or (k_a == k_b and a_first == 1):\n",
    "                if InterleavingAlgorithm.get_rd_index_from_list(A[k_a].get_id(), interleaving) is False:  # document has not been added yet\n",
    "                    interleaving.append(A[k_a])\n",
    "                else:  # document already exists in interleaving (added by B), add A as source as well\n",
    "                    index = InterleavingAlgorithm.get_rd_index_from_list(A[k_a].get_id(), interleaving)\n",
    "                    interleaving[index].add_source('P')\n",
    "                k_a += 1\n",
    "            else:\n",
    "                if InterleavingAlgorithm.get_rd_index_from_list(B[k_b].get_id(), interleaving) is False:  # document has not been added yet\n",
    "                    interleaving.append(B[k_b])\n",
    "                else:  # document already exists in interleaving (added by A), add B as source as well\n",
    "                    index = InterleavingAlgorithm.get_rd_index_from_list(B[k_b].get_id(), interleaving)\n",
    "                    interleaving[index].add_source('E')\n",
    "                k_b += 1\n",
    "         # return the same amount of documents as original lists so user does not know they are interleaved\n",
    "        return interleaving[0:len(A)]\n",
    "        \n",
    "  \n",
    "class TeamDraftInterleaving(InterleavingAlgorithm):\n",
    "    @staticmethod\n",
    "    def perform_interleaving(A, B):\n",
    "        interleaving = []\n",
    "        team_A = []\n",
    "        team_B = []\n",
    "\n",
    "        while InterleavingAlgorithm.not_fully_contained(A, interleaving) and InterleavingAlgorithm.not_fully_contained(B, interleaving):\n",
    "            a_first = np.random.randint(2)\n",
    "\n",
    "            if len(team_A) < len(team_B) or (len(team_A) == len(team_B) and a_first):\n",
    "                k = InterleavingAlgorithm.index_top_result_not_contained(A, interleaving)\n",
    "\n",
    "                if k is not False:\n",
    "                    interleaving.append(A[k])\n",
    "                    team_A.append(A[k])\n",
    "            else:\n",
    "                k = InterleavingAlgorithm.index_top_result_not_contained(B, interleaving)\n",
    "\n",
    "                if k is not False:\n",
    "                    interleaving.append(B[k])\n",
    "                    team_B.append(B[k])\n",
    "        # return the same amount of documents as original lists so user does not know they are interleaved\n",
    "        return interleaving[0:len(A)], team_A, team_B\n",
    "    \n",
    "#P = [RankedDocument('HR', 'P', 1), RankedDocument('HR', 'P'), RankedDocument('HR', 'P'), RankedDocument('HR', 'P'), RankedDocument('HR', 'P')]\n",
    "#E = [RankedDocument('HR', 'E', 1), RankedDocument('HR', 'E'), RankedDocument('HR', 'E'), RankedDocument('HR', 'E'), RankedDocument('N', 'E')]\n",
    "\n",
    "#TeamDraftInterleaving.perform_interleaving(P, E)\n",
    "    "
   ]
  },
  {
   "cell_type": "markdown",
   "metadata": {
    "colab_type": "text",
    "id": "NlL1fjhoAZtD"
   },
   "source": [
    "###Step 5: Implement User Clicks Simulation"
   ]
  },
  {
   "cell_type": "code",
   "execution_count": 16,
   "metadata": {
    "colab": {
     "autoexec": {
      "startup": false,
      "wait_interval": 0
     }
    },
    "colab_type": "code",
    "id": "B6GFPjTgys2o"
   },
   "outputs": [],
   "source": [
    "import abc\n",
    "\n",
    "class ClickModel(abc.ABC):\n",
    "    #Implement the two models so that:\n",
    "    \n",
    "    @abc.abstractmethod\n",
    "    def __init__(self):\n",
    "        pass\n",
    "    \n",
    "    @abc.abstractmethod\n",
    "    def learn_parameters(self, data):\n",
    "        #(a) there is a method that learns the parameters of \n",
    "        #    the model given a set of training data\n",
    "        pass\n",
    "    \n",
    "    @abc.abstractmethod\n",
    "    def get_click_prob(self, relevacne_ranked_list):\n",
    "        #(b) there is a method that predicts the click probability \n",
    "        #    given a ranked list of relevance labels\n",
    "        pass\n",
    "    \n",
    "    @abc.abstractmethod\n",
    "    def predict_clicks(self, probs):\n",
    "        #(c) there is a method that decides - stochastically - whether \n",
    "        #    a document is clicked based on these probabilities\n",
    "        pass"
   ]
  },
  {
   "cell_type": "code",
   "execution_count": 17,
   "metadata": {
    "colab": {
     "autoexec": {
      "startup": false,
      "wait_interval": 0
     }
    },
    "colab_type": "code",
    "id": "v4f0kJsnyUEb"
   },
   "outputs": [],
   "source": [
    "class RCM(ClickModel):\n",
    "    #(a) the Random Click Model (RCM)\n",
    "    \n",
    "    def __init__(self):\n",
    "        #rho is the parameter of RCM\n",
    "        self.rho = None\n",
    "      \n",
    "    def learn_parameters(self, data):\n",
    "        '''\n",
    "        data:\n",
    "        list of lists of queries and clicks \n",
    "        !!!! sorted by SessionID\n",
    "        \n",
    "        In the case of a Query:\n",
    "        SessionID TimePassed TypeOfAction QueryID RegionID ListOfURLs of size 10\n",
    "        \n",
    "        In the case of a Click:\n",
    "        SessionID TimePassed TypeOfAction URLID\n",
    "        \n",
    "        returns: \n",
    "        \n",
    "        Computes the MLE of the rho parameter in the following way:\n",
    "        nr. of clicks in all sessions / nr. of documents in all sessions\n",
    "        '''\n",
    "        \n",
    "        documents = 0\n",
    "        clicks = 0\n",
    "        for action in data:\n",
    "            if action[2] == 'Q':\n",
    "                #Query\n",
    "                SRP_size = len(action[5:])\n",
    "                documents += SRP_size\n",
    "            elif action[2] == 'C':\n",
    "                #Click\n",
    "                clicks += 1\n",
    "            else:\n",
    "                raise Exception('Actions should be either click C or query Q')\n",
    "                \n",
    "        self.rho = clicks/documents\n",
    "    \n",
    "    def get_click_prob(self, relevance_ranked_list):\n",
    "        '''\n",
    "        ranked_list is a list of relevance labels\n",
    "        returns a list with same length as ranked lists containing\n",
    "                for each document a probability of being clicked\n",
    "        '''\n",
    "        \n",
    "        return [self.rho]*len(relevance_ranked_list)\n",
    "      \n",
    "    def predict_clicks(self, probs):\n",
    "        '''\n",
    "        probs is a list of probabilities\n",
    "        returns a boolean list with same length as probs containing\n",
    "                for each probability an outcome \n",
    "        '''\n",
    "        samples = np.random.uniform(0,1,size=len(probs))\n",
    "        return samples < self.rho"
   ]
  },
  {
   "cell_type": "code",
   "execution_count": 18,
   "metadata": {
    "colab": {
     "autoexec": {
      "startup": false,
      "wait_interval": 0
     }
    },
    "colab_type": "code",
    "id": "vSkC3WtxRFLH"
   },
   "outputs": [],
   "source": [
    "def get_yandex_actions():\n",
    "    actions = []\n",
    "    with open('YandexRelPredChallenge.txt') as fd:\n",
    "        for line in fd:\n",
    "            actions.append(line.strip().split('\\t'))\n",
    "    return actions\n",
    "  \n",
    "actions = get_yandex_actions()"
   ]
  },
  {
   "cell_type": "code",
   "execution_count": 19,
   "metadata": {
    "colab": {
     "autoexec": {
      "startup": false,
      "wait_interval": 0
     }
    },
    "colab_type": "code",
    "id": "QsQuOyqlXCSY"
   },
   "outputs": [],
   "source": [
    "class SDCM(ClickModel):\n",
    "    #(a) the Simplified Dependent Click Model (SDCM)\n",
    "    #    DCM with the assumption that the user is satisfied by the last clicked document,\n",
    "    #    or they were not attracted by any document below it\n",
    "    #    \n",
    "    def __init__(self):\n",
    "        #lambda and alfa are the parameters of the SDCM\n",
    "        #lambda_r is learned and alfas are determined at runtime based on the relevance label of each link\n",
    "        #as we have seen lambda being called both the continuation parameter and the satisfactoriness parameter,\n",
    "        # we treat lambda_r as the satisfactoriness, and 1-lambda the continuation\n",
    "        self.lambda_r = [None] * 10\n",
    "        \n",
    "        \n",
    "    def learn_parameters(self, data):\n",
    "        '''\n",
    "        data:\n",
    "        list of lists of queries and clicks \n",
    "        !!!! sorted by SessionID\n",
    "        \n",
    "        In the case of a Query:\n",
    "        SessionID TimePassed TypeOfAction QueryID RegionID ListOfURLs of size 10\n",
    "        \n",
    "        In the case of a Click:\n",
    "        SessionID TimePassed TypeOfAction URLID\n",
    "        \n",
    "        returns: \n",
    "        \n",
    "        Computes the MLE of the lambda_r parameter in the following way:\n",
    "        nr. of times r is the rank of the last clicked document / nr. of times a click at rank r is observed\n",
    "        \n",
    "        In order to see when a last click was made we need to define a session:\n",
    "        The set of events between issuing a query and abandoning the search is called a session.\n",
    "        Abandoning a search means not clicking anymore or issuing a new query.\n",
    "        Unfortunately, the SessionID does not change when the user makes a new query so we have to treat\n",
    "        issuing a new query as the moment when the session stops\n",
    "        \n",
    "        '''\n",
    "        \n",
    "        clicks_at_r = [0]*10\n",
    "        clicks_last_at_r = [0]*10\n",
    "        \n",
    "        last_query = None\n",
    "        last_click = None\n",
    "        for idx in range(len(data)):\n",
    "            if idx == 0:\n",
    "                last_query = data[idx]\n",
    "                continue\n",
    "            action = data[idx]\n",
    "            \n",
    "            #get type of action\n",
    "            action_type = action[2]\n",
    "            \n",
    "            if action_type == 'Q':\n",
    "                #on query\n",
    "                #stopping session and counting last click\n",
    "                if last_click is not None:\n",
    "                    #first get the index r of the last clicked document\n",
    "                    url_id = last_click[3]\n",
    "                    if url_id in last_query[5:]:\n",
    "                        last_click_rank = last_query[5:].index(url_id)\n",
    "                    else:\n",
    "                        raise Exception('Invalid document id. Possibly not changed last query...')\n",
    "                    clicks_last_at_r[last_click_rank] += 1\n",
    "                \n",
    "                #reset last_click and last_query\n",
    "                last_click = None\n",
    "                last_query = action\n",
    "                #print('new query '+ str(action))\n",
    "            elif action_type == 'C':\n",
    "                #on click\n",
    "                #count the click and save it as the new possible last click in current session\n",
    "                #print('in click ' + str(action))\n",
    "                #first get the index r of the clicked document\n",
    "                url_id = action[3]\n",
    "                if url_id in last_query[5:]:\n",
    "                    click_rank = last_query[5:].index(url_id)\n",
    "                else:\n",
    "                    #print('appearently people can click things that don.t exist')\n",
    "                    #there is a special case in the Yandex logs, where in the same SessionID a new query has been typed, but the user can still click\n",
    "                    #on SERP from previous queries. We skiped these cases as we abandon a session when a new query is issued:\n",
    "                    #e.g.:   67\t429\tQ\t1494\t0\t13253\t13252\t3815\t5319\t13257\t13251\t13255\t13254\t13256\t3816\n",
    "                    #        67\t472\tQ\t1494\t0\t13253\t13252\t3815\t5319\t13257\t13251\t13255\t13254\t13256\t3816\n",
    "                    #        67\t509\tC\t13257\n",
    "                    #        67\t703\tQ\t2852\t0\t13253\t25091\t3815\t671\t4136\t13256\t25092\t25094\t25090\t25093\n",
    "                    #        67\t757\tC\t3815\n",
    "                    #        67\t877\tC\t13251\n",
    "                    #  we can see how DocumentID 13251 is not in the SERP of the last query, but the one before that\n",
    "                    continue\n",
    "                    #raise Exception('Invalid document id. Possibly not change last query')\n",
    "                clicks_at_r[click_rank] += 1\n",
    "                last_click = action\n",
    "            else:\n",
    "                raise Exception('Actions should be either click C or query Q')\n",
    "            \n",
    "        for i in range(10):\n",
    "            if clicks_at_r[i] == 0:\n",
    "                print('WEIRD')\n",
    "            else:\n",
    "                self.lambda_r[i] = clicks_last_at_r[i] / clicks_at_r[i]\n",
    "                \n",
    "    def get_click_prob(self, relevance_ranked_list):\n",
    "        '''\n",
    "        ranked_list is a list of relevance labels\n",
    "        returns a list with same length as ranked lists containing\n",
    "                for each document a probability of being clicked\n",
    "                \n",
    "        due to the fact that alphas should not be learned we compute attractiveness based on the relevance labels\n",
    "        according to:\n",
    "        DCG = 2 ** (relevance(document)-1) / 2 ** max(relevance)\n",
    "        \n",
    "        another attemp:\n",
    "        according to: attractiveness should increase with relevance label and also increase as there are more and more unnatractive documents before it:\n",
    "        DCG_r  = ( 2**(relevance(decoument)+(1-DCG_{r-1})) - 1 ) / 2 ** max(relevance)\n",
    "        \n",
    "        '''\n",
    "        #P(C_u = 1) = alpha_uq * epsilon_r_u, where\n",
    "        #epsilon_r+1 = epsilon_r * (alpha_u_rq*(1-lambda_r_u) + (1-alpha_u_rq))\n",
    "        alphas = np.zeros(shape=(len(relevance_ranked_list)))\n",
    "        irrelevants = 0\n",
    "        for idx,relevance_label in enumerate(relevance_ranked_list):\n",
    "            relevance = get_relevance(relevance_label)\n",
    "            #relevance = (2**(relevance+(1-alphas[idx-1])) - 1 )/ ( 2 ** ( get_relevance('HR')+1) )\n",
    "            relevance = (2**(relevance) - 1 )/ ( 2 ** ( get_relevance('HR')) )\n",
    "            alphas[idx] = relevance\n",
    "        epsilons = [0] * len(relevance_ranked_list)\n",
    "        #first document is always examined\n",
    "        epsilons[0] = 1\n",
    "        for idx in range(1,len(epsilons),1):\n",
    "            epsilons[idx] = epsilons[idx-1]*(alphas[idx-1]*(1-self.lambda_r[idx-1]) + (1-alphas[idx-1]))\n",
    "            \n",
    "        click_probs = [0] * len(relevance_ranked_list)\n",
    "        for idx in range(len(click_probs)):\n",
    "            click_probs[idx] = alphas[idx]*epsilons[idx]\n",
    "        \n",
    "        #print(self.lambda_r)\n",
    "        #print('alphas: '+str(alphas))\n",
    "        #print('epsilons: '+str(epsilons))\n",
    "        #print('click_probs: '+str(click_probs))\n",
    "        return click_probs\n",
    "        \n",
    "    def predict_clicks(self, probs):\n",
    "        '''\n",
    "        probs is a list of probabilities\n",
    "        returns a boolean list with same length as probs containing\n",
    "                for each probability an outcome \n",
    "        '''\n",
    "        samples = np.random.uniform(0,1,size=len(probs))\n",
    "        results = []\n",
    "        for idx in range(len(samples)):\n",
    "            if samples[idx] <= probs[idx]:\n",
    "                results.append(1)\n",
    "            else:\n",
    "                results.append(0)\n",
    "        return results\n",
    "      "
   ]
  },
  {
   "cell_type": "markdown",
   "metadata": {
    "colab_type": "text",
    "id": "Zqp2XvyPuucy"
   },
   "source": [
    "###Step 6: Simulate Interleaving Experiment"
   ]
  },
  {
   "cell_type": "code",
   "execution_count": 20,
   "metadata": {
    "colab": {
     "autoexec": {
      "startup": false,
      "wait_interval": 0
     }
    },
    "colab_type": "code",
    "id": "c5AYIdeBu4YD"
   },
   "outputs": [],
   "source": [
    "# ONLINE EVALUATION\n",
    "list_id_ctr = 0\n",
    "class Interleaved_ranking():\n",
    "    # container of RankedDocument class\n",
    "    \n",
    "    list_id = 0\n",
    "    ranked_document_list = [] # list of RankedDocument objects\n",
    "    E_counter = 0\n",
    "    P_counter = 0\n",
    "    \n",
    "    def __init__(self,interleaved_ranking):\n",
    "        self.list_id = self.get_id()\n",
    "        self.ranked_document_list = interleaved_ranking\n",
    "\n",
    "    # Assigns an id to interleaved_ranking\n",
    "    def get_id(self):\n",
    "        global list_id_ctr\n",
    "        list_id_ctr += 1\n",
    "        return list_id_ctr\n",
    "      \n",
    "    # Returns a list of relevance tags of the ranking\n",
    "    def get_relevance_tags(self):\n",
    "        ranked_list = []\n",
    "        for ranked_document in self.ranked_document_list:\n",
    "            ranked_list.append(ranked_document.get_relevance())\n",
    "        return ranked_list\n",
    "      \n",
    "    def __getitem__(self,key):\n",
    "        return self.ranked_document_list[key]\n",
    "    def __len__(self):\n",
    "        return len(self.ranked_document_list)\n",
    "    \n",
    "    def __repr__(self):\n",
    "        return \"InterleavedRanking_{}\".format(self.list_id)\n",
    "    \n",
    "def transform_to_rd(P_rankings, E_rankings):\n",
    "    '''\n",
    "    input: 2 lists strings, representing relevances from the relevance list ['N', 'R', 'HR'] \n",
    "    return: 2 respective lists of RankedDocument\n",
    "    '''\n",
    "    P_rd_rankings = []\n",
    "    E_rd_rankings = []\n",
    "\n",
    "    for i in range(len(P_rankings)):\n",
    "        P_rd_rankings.append(RankedDocument(P_rankings[i], 'P'))\n",
    "        E_rd_rankings.append(RankedDocument(E_rankings[i], 'E'))\n",
    "    \n",
    "    return P_rd_rankings, E_rd_rankings\n",
    "      \n",
    "    \n",
    "def interleave_rankings(P_rankings, E_rankings, interleaving_algo):\n",
    "    '''\n",
    "    P_rankings: list string, representing relevances from the relevance list ['N', 'R', 'HR']\n",
    "    E_rankings: list string, representing relevances from the relevance list ['N', 'R', 'HR']\n",
    "    interleaving_algo: i\n",
    "    '''\n",
    "    interleaved_rankings = []\n",
    "    for i in range(len(P_rankings)):\n",
    "          P_rd_rankings, E_rd_rankings = transform_to_rd(P_rankings[i], E_rankings[i]) \n",
    "          interleaved_list,__,__ = interleaving_algo.perform_interleaving(\n",
    "                                        P_rd_rankings, E_rd_rankings)\n",
    "          interleaved_rankings.append(Interleaved_ranking(interleaved_list))\n",
    "    return interleaved_rankings\n",
    "\n",
    "  \n",
    "def predict_click_positions(interleaved_ranking, click_model):\n",
    "    # Get relevance tags of interleaved list\n",
    "    relevance_tags = interleaved_ranking.get_relevance_tags()\n",
    "    # Get click probabilities given relevance tags\n",
    "    probs = click_model.get_click_prob(relevance_tags)\n",
    "    # Predict simulated click positions given click probabilities\n",
    "    click_positions = click_model.predict_clicks(probs)\n",
    "    return click_positions\n",
    "\n",
    "def get_wins(ranking, click_model):\n",
    "    '''\n",
    "    ranking: list of RankedDocument\n",
    "    click model: ClickModel\n",
    "    \n",
    "    Returns: 3 bool:  E won, Tie, P won\n",
    "    \n",
    "    Applies the ClickModel, stochastically choosing which links it clicks for a given ranking\n",
    "    Counts the documents of each algorithm, E, P and returns expressions\n",
    "    '''\n",
    "    E_counter = 0\n",
    "    P_counter = 0\n",
    "    # Get the positions at which the model predicts a user clicks\n",
    "    predicted_click_positions = predict_click_positions(ranking, click_model)\n",
    "    for r in range(len(ranking)):\n",
    "        # If a user clicked on position r\n",
    "        if predicted_click_positions[r]:\n",
    "            if ranking[r].get_source() == 'E':\n",
    "                # Clicked document belongs to E algorithm\n",
    "                E_counter += 1\n",
    "            else:\n",
    "                P_counter += 1\n",
    "    return E_counter > P_counter, E_counter == P_counter, E_counter < P_counter\n",
    "\n",
    "def online_evaluation_dAB(dataset, interleaving_algo, click_model, N):\n",
    "    # USING DELTA AB FROM PAPER\n",
    "    E_rankings, P_rankings = dataset\n",
    "    interleaved_rankings = interleave_rankings(P_rankings, E_rankings,\n",
    "                                                interleaving_algo)\n",
    "    \n",
    "    # Train the click model on Yandex Click Log\n",
    "    data =get_yandex_actions()\n",
    "    click_model.learn_parameters(data)\n",
    "    \n",
    "    results = []\n",
    "    \n",
    "    for ranking in interleaved_rankings:\n",
    "        E_wins = 0\n",
    "        P_wins = 0\n",
    "        ties = 0\n",
    "        # Simulate clicks N times per interleaved ranking\n",
    "        \n",
    "        for run in range(N):\n",
    "            win, draw, lose = get_wins(ranking, click_model)\n",
    "            E_wins += win\n",
    "            P_wins += lose\n",
    "            ties += draw\n",
    "            # Only consider runs where either E or P was better\n",
    "        n = E_wins + P_wins+ties\n",
    "        delta_AB = ((E_wins+(0.5*ties))/n)-0.5\n",
    "        results.append(delta_AB)\n",
    "    \n",
    "    # Results here are per query, the proportion that E wins over P\n",
    "    return results\n",
    "  \n",
    "def online_evaluation(dataset, interleaving_algo, click_model, N):\n",
    "    '''\n",
    "    dataset: list of 2 elements, E_rankings and P_rankings, each of which is a ranked list of documents\n",
    "    interleaving algo: object of type InterleavingAlgorithm\n",
    "    N: number of runs to run each ranking before deciding winner \n",
    "    \n",
    "    return: list of proportions (floats) of that E won over P for each ranking\n",
    "    \n",
    "    For a given dataset, interleaving algorithm and a click model\n",
    "    the function outputs the proportion of times E wins over P for each ranking\n",
    "    given N simulations\n",
    "    '''\n",
    "    E_rankings, P_rankings = dataset\n",
    "    interleaved_rankings = interleave_rankings(P_rankings, E_rankings,\n",
    "                                                interleaving_algo)\n",
    "    # Train the click model on Yandex Click Log\n",
    "    data =get_yandex_actions()\n",
    "    click_model.learn_parameters(data)\n",
    "    \n",
    "    results = []\n",
    "    \n",
    "    for ranking in interleaved_rankings:\n",
    "        E_wins = 0\n",
    "        P_wins = 0\n",
    "        # Simulate clicks N times per interleaved ranking\n",
    "        for run in range(N):\n",
    "            win, draw, lose = get_wins(ranking, click_model)\n",
    "            E_wins += win\n",
    "            P_wins += lose\n",
    "            # Only consider runs where either E or P was better\n",
    "        n = E_wins + P_wins\n",
    "        \n",
    "        results.append(E_wins/(n+0.000001)) # Prevent division by zero.\n",
    "        \n",
    "    \n",
    "    # Results here are per query, the proportion that E wins over P\n",
    "    return results\n",
    "\n",
    "\n"
   ]
  },
  {
   "cell_type": "code",
   "execution_count": 21,
   "metadata": {
    "colab": {
     "autoexec": {
      "startup": false,
      "wait_interval": 0
     }
    },
    "colab_type": "code",
    "id": "SHVz5B0i1ZhY"
   },
   "outputs": [],
   "source": [
    "# OFFLINE data\n",
    "\n",
    "\n",
    "def get_precision_preferences(dataset):\n",
    "    E_rankings, P_rankings = dataset\n",
    "    P_measures = []\n",
    "    E_measures = []\n",
    "    for ranking in P_rankings:\n",
    "        P_measures.append(precision_k(ranking))\n",
    "    for ranking in E_rankings:\n",
    "        E_measures.append(precision_k(ranking))\n",
    "    return np.array(E_measures) - np.array(P_measures)\n",
    "  \n",
    "def get_nDCG_preferences(dataset, k):\n",
    "    E_rankings, P_rankings = dataset\n",
    "    P_measures = []\n",
    "    E_measures = []\n",
    "    for ranking in P_rankings:\n",
    "        P_measures.append(nDCG_k(ranking,k))\n",
    "    for ranking in E_rankings:\n",
    "        E_measures.append(nDCG_k(ranking,k))\n",
    "    return np.array(E_measures) - np.array(P_measures)\n",
    "def get_ERR_preferences(dataset):\n",
    "    \n",
    "    E_rankings, P_rankings = dataset\n",
    "    P_measures = []\n",
    "    E_measures = []\n",
    "    for ranking in P_rankings:\n",
    "        P_measures.append(ERR(ranking))\n",
    "    for ranking in E_rankings:\n",
    "        E_measures.append(ERR(ranking))\n",
    "    return np.array(E_measures) - np.array(P_measures)\n",
    "  \n",
    "  \n",
    "\n",
    "    "
   ]
  },
  {
   "cell_type": "code",
   "execution_count": 22,
   "metadata": {
    "colab": {
     "autoexec": {
      "startup": false,
      "wait_interval": 0
     }
    },
    "colab_type": "code",
    "id": "-8Z2m2VQcGrI"
   },
   "outputs": [],
   "source": [
    "# GET DATA\n",
    "\n",
    "dataset = simulate_rankings(n=10000) # returns 10000 ranking pairs\n",
    "rcm = RCM() # returns a Random Click Model\n",
    "sdcm = SDCM() # returns a Simple Dependent Click Model\n",
    "\n",
    "# Returns a Team Draft interleaver\n",
    "tmi = TeamDraftInterleaving()\n",
    "\n",
    "# Returns proportions of wins with Team Draft Interleaving given a random click model\n",
    "online_tmi_rcm = online_evaluation(dataset,tmi,rcm, 100)\n",
    "# Returns proportions of wins with Team Draft Interleaving given a simple dependent click model\n",
    "online_tmi_sdcm = online_evaluation(dataset,tmi,sdcm, 100)\n",
    "\n",
    "# Returns delta measures for precision evaluation\n",
    "precision_preferences = get_precision_preferences(dataset)\n",
    "# Returns delta measures for discounted cumulative gain evaluation at rank 5\n",
    "NDCG_preferences = get_nDCG_preferences(dataset,5)\n",
    "# Returns delta measures for expected reciprocal rank evaluation\n",
    "ERR_preferences = get_ERR_preferences(dataset)\n"
   ]
  },
  {
   "cell_type": "code",
   "execution_count": 23,
   "metadata": {
    "colab": {
     "autoexec": {
      "startup": false,
      "wait_interval": 0
     },
     "base_uri": "https://localhost:8080/",
     "height": 1548,
     "output_extras": [
      {
       "item_id": 1
      },
      {
       "item_id": 2
      },
      {
       "item_id": 3
      },
      {
       "item_id": 4
      }
     ]
    },
    "colab_type": "code",
    "executionInfo": {
     "elapsed": 2779,
     "status": "ok",
     "timestamp": 1516221691889,
     "user": {
      "displayName": "Julian Schoep",
      "photoUrl": "https://lh3.googleusercontent.com/a/default-user=s128",
      "userId": "116557913130949698674"
     },
     "user_tz": -60
    },
    "id": "Xkg5EnS1xDrx",
    "outputId": "b009856b-6f4e-4075-8bcc-bce08cf04368"
   },
   "outputs": [
    {
     "data": {
      "image/png": "[encoded data removed]",
      "text/plain": [
       "<matplotlib.figure.Figure at 0x7fac24c9ce80>"
      ]
     },
     "metadata": {},
     "output_type": "display_data"
    },
    {
     "data": {
      "image/png": "[encoded data removed]",
      "text/plain": [
       "<matplotlib.figure.Figure at 0x7fac1f2f2860>"
      ]
     },
     "metadata": {},
     "output_type": "display_data"
    },
    {
     "data": {
      "image/png": "[encoded data removed]",
      "text/plain": [
       "<matplotlib.figure.Figure at 0x7fac1f276f98>"
      ]
     },
     "metadata": {},
     "output_type": "display_data"
    },
    {
     "data": {
      "image/png": "[encoded data removed]",
      "text/plain": [
       "<matplotlib.figure.Figure at 0x7fac1de025c0>"
      ]
     },
     "metadata": {},
     "output_type": "display_data"
    }
   ],
   "source": [
    "# PLOTS OF CORRELATION BETWEEN OFFLINE AND ONLINE EVALUATIONS\n",
    "\n",
    "def get_y_means(x,y):\n",
    "    # x and y are ordered. Couple the two values\n",
    "    tuples = []\n",
    "    for i in range(len(x)):\n",
    "        tuples.append((x[i],y[i]))\n",
    "    d = defaultdict(list)\n",
    "    for t in tuples:\n",
    "        xi,yi = t\n",
    "        dict_key = int(xi*100)\n",
    "        d[dict_key].append(yi)\n",
    "    means = []\n",
    "    x_means = []\n",
    "    for key in d.keys():\n",
    "        means.append(np.mean(d[key]))\n",
    "        x_means.append(key/100)\n",
    "    return x_means, means\n",
    "\n",
    "\n",
    "y_data = online_tmi_rcm\n",
    "plt.suptitle('Fig. 1.a')\n",
    "plt.title(\"Proportion of wins against delta measure RCM\")\n",
    "plt.scatter(precision_preferences, y_data,c='r',s=5, alpha=0.5,label='precision preferences')\n",
    "plt.scatter(NDCG_preferences, y_data , c='b', s=5, alpha=0.5,label='NDCG@5 preferences')\n",
    "plt.scatter(ERR_preferences, y_data, c='g',s=5, alpha=0.5,label='ERR preferences')\n",
    "plt.xlabel('delta measure')\n",
    "plt.ylabel('p1')\n",
    "plt.legend(loc='upper left')\n",
    "plt.show()\n",
    "  \n",
    "plt.suptitle('Fig. 1.b')\n",
    "plt.title(\"Mean proportion of wins against delta measure RCM\")\n",
    "x,y = get_y_means(precision_preferences,y_data)\n",
    "plt.scatter(x,y,label='precision preferences',c='r')\n",
    "x,y = get_y_means(NDCG_preferences,y_data)\n",
    "plt.scatter(x,y,label='NDC@5 preferences',c='b')\n",
    "x,y = get_y_means(ERR_preferences,y_data)\n",
    "plt.scatter(x,y,label='ERR preferences',c='g')\n",
    "plt.axis((-2,2,0,1))\n",
    "plt.xlabel('delta measure')\n",
    "plt.ylabel('p1')\n",
    "plt.legend(loc='upper left')\n",
    "plt.show()\n",
    "\n",
    "\n",
    "\n",
    "plt.suptitle('Fig. 2.a')\n",
    "y_data = online_tmi_sdcm\n",
    "plt.title(\"Proportion of wins against delta measure SDCM\")\n",
    "plt.scatter(precision_preferences, y_data,c='r',s=5, alpha=0.5,label='precision preferences')\n",
    "plt.scatter(NDCG_preferences, y_data , c='b', s=5, alpha=0.5,label='NDCG@5 preferences')\n",
    "plt.scatter(ERR_preferences, y_data, c='g',s=5, alpha=0.5,label='ERR preferences')\n",
    "plt.xlabel('delta measure')\n",
    "plt.ylabel('p1')\n",
    "plt.legend(loc='upper left')\n",
    "plt.show()\n",
    "\n",
    "plt.suptitle('Fig. 2.b')\n",
    "plt.title(\"Mean proportion of wins against delta measure SDCM\")\n",
    "x,y = get_y_means(precision_preferences,y_data)\n",
    "plt.scatter(x,y,label='precision preferences',c='r')\n",
    "x,y = get_y_means(NDCG_preferences,y_data)\n",
    "plt.scatter(x,y,label='NDCG@5 preferences',c='b')\n",
    "x,y = get_y_means(ERR_preferences,y_data)\n",
    "plt.scatter(x,y,label='ERR preferences',c='g')\n",
    "plt.axis((-2,2,0,1))\n",
    "plt.xlabel('delta measure')\n",
    "plt.ylabel('p1')\n",
    "plt.legend(loc='upper left')\n",
    "plt.show()\n",
    "\n",
    "\n",
    "\n",
    "\n",
    "\n"
   ]
  },
  {
   "cell_type": "code",
   "execution_count": 24,
   "metadata": {
    "colab": {
     "autoexec": {
      "startup": false,
      "wait_interval": 0
     },
     "base_uri": "https://localhost:8080/",
     "height": 404,
     "output_extras": [
      {
       "item_id": 1
      }
     ]
    },
    "colab_type": "code",
    "executionInfo": {
     "elapsed": 2748,
     "status": "ok",
     "timestamp": 1516221101503,
     "user": {
      "displayName": "Nichita Diaconu",
      "photoUrl": "//lh4.googleusercontent.com/-L_14SnBPff8/AAAAAAAAAAI/AAAAAAAABU4/ZCpNHv6ApOg/s50-c-k-no/photo.jpg",
      "userId": "108913819228217065637"
     },
     "user_tz": -60
    },
    "id": "ZVUzRd1f5b1g",
    "outputId": "80fab8c9-aded-4bed-8982-23f1f9fd6627"
   },
   "outputs": [
    {
     "data": {
      "image/png": "[encoded data removed]",
      "text/plain": [
       "<matplotlib.figure.Figure at 0x7fac24c9cdd8>"
      ]
     },
     "metadata": {},
     "output_type": "display_data"
    }
   ],
   "source": [
    "def bootstrap_confidence_interval_mean(data, n, alpha):\n",
    "    # With the bootstrap confidence interval method we assume the sample mean to \n",
    "    # be the population mean, and we estimate the confidence interval of the mean\n",
    "    # by performing k resamples (sampling w/o replacement) of size n, and \n",
    "    # calculating the resampled mean for each of these k resamples. Then we remove\n",
    "    #  the top-alpha% and bottom-alpha% of the resulting resampled means and take\n",
    "    #  the extremes as the 1-alpha % confidence interval.\n",
    "    resamples = np.random.choice(data,size=n,replace=True)\n",
    "    #for i in range(k): # take k samples\n",
    "        #resample = np.random.choice(data, size=n, replace=True)\n",
    "        #resamples.append(np.mean(resample))\n",
    "    # Get the deviation from the sample mean for all resampled means\n",
    "    #print(resample_means)\n",
    "    #sample_deviations = resample_means - np.mean(data)\n",
    "    # Sort\n",
    "    sorted_samples = np.sort(resamples)\n",
    "    lower_index = n*alpha-1\n",
    "    #print(sorted_sample_deviations)\n",
    "    higher_index = n*(1-alpha)-1\n",
    "    #print(lower_index, higher_index)\n",
    "    lower_delta = sorted_samples[int(lower_index)]\n",
    "    upper_delta = sorted_samples[int(higher_index)]\n",
    "    return np.mean(data),lower_delta, upper_delta\n",
    "\n",
    "def plot(ax, x,y, labelx, labely):\n",
    "    x_data = x\n",
    "    ax.set_ylabel(labely)\n",
    "    ax.set_xlabel(labelx)\n",
    "    plt.scatter(x_data,y,s=2,alpha=0.5)\n",
    "    x_mean, x_lower,x_upper = bootstrap_confidence_interval_mean(x_data,10000,0.05)\n",
    "    xerr = [[x_mean-x_lower], [x_upper-x_mean]]\n",
    "    y_mean, y_lower,y_upper = bootstrap_confidence_interval_mean(y,10000,0.05)\n",
    "    yerr = [[y_mean-y_lower], [y_upper-y_mean]]\n",
    "    plt.errorbar(x_mean,y_mean,yerr=yerr,xerr=xerr,\n",
    "                 capthick=20,\n",
    "                 fmt='o',\n",
    "                 color='red',\n",
    "                 capsize=5, elinewidth=2,markeredgewidth=2)\n",
    "\n",
    "\n",
    "fig = plt.figure()\n",
    "plt.title(\"Fig. 3: Bootstrap confidence intervals for all 6 comparements.\")\n",
    "ax1 = fig.add_subplot(231)    \n",
    "plot(ax1, online_tmi_rcm, precision_preferences, 'online tmi rcm','precision preferences')\n",
    "ax2 = fig.add_subplot(232)  \n",
    "plot(ax2,online_tmi_rcm, NDCG_preferences, 'online tmi rcm','precision preferences')\n",
    "ax3 = fig.add_subplot(233)  \n",
    "plot(ax3,online_tmi_rcm, ERR_preferences, 'online tmi rcm','precision preferences')\n",
    "ax4 = fig.add_subplot(234)  \n",
    "plot(ax4,online_tmi_sdcm, precision_preferences, 'online tmi sdcm','precision preferences')\n",
    "ax5 = fig.add_subplot(235)   \n",
    "plot(ax5,online_tmi_sdcm, NDCG_preferences, 'online tmi sdcm','precision preferences')\n",
    "ax6 = fig.add_subplot(236)  \n",
    "plot(ax6,online_tmi_sdcm, ERR_preferences, 'online tmi sdcm','precision preferences')\n",
    "fig.tight_layout()\n",
    "plt.show()\n"
   ]
  },
  {
   "cell_type": "code",
   "execution_count": 25,
   "metadata": {
    "colab": {
     "autoexec": {
      "startup": false,
      "wait_interval": 0
     },
     "base_uri": "https://localhost:8080/",
     "height": 1131,
     "output_extras": [
      {
       "item_id": 1
      },
      {
       "item_id": 2
      },
      {
       "item_id": 3
      },
      {
       "item_id": 4
      }
     ]
    },
    "colab_type": "code",
    "executionInfo": {
     "elapsed": 7465,
     "status": "ok",
     "timestamp": 1516221707839,
     "user": {
      "displayName": "Julian Schoep",
      "photoUrl": "https://lh3.googleusercontent.com/a/default-user=s128",
      "userId": "116557913130949698674"
     },
     "user_tz": -60
    },
    "id": "JiIuJma8UfBo",
    "outputId": "e4348e48-9e0c-4e4b-a43c-59db5eee14da"
   },
   "outputs": [
    {
     "data": {
      "image/png": "[encoded data removed]",
      "text/plain": [
       "<matplotlib.figure.Figure at 0x7fac1fdbfb70>"
      ]
     },
     "metadata": {},
     "output_type": "display_data"
    },
    {
     "data": {
      "image/png": "[encoded data removed]",
      "text/plain": [
       "<matplotlib.figure.Figure at 0x7fac1f6540f0>"
      ]
     },
     "metadata": {},
     "output_type": "display_data"
    },
    {
     "data": {
      "image/png": "[encoded data removed]",
      "text/plain": [
       "<matplotlib.figure.Figure at 0x7fac1fb71908>"
      ]
     },
     "metadata": {},
     "output_type": "display_data"
    },
    {
     "name": "stdout",
     "output_type": "stream",
     "text": [
      "P(r>s) in this graph is the proportion of random delta measure means \n",
      " that that are higher than the sample delta measure mean\n"
     ]
    }
   ],
   "source": [
    "# OFFLINE MEASURES RANDOMIZATION TEST\n",
    "def get_precision_measures(dataset):\n",
    "    E_rankings, P_rankings = dataset\n",
    "    P_measures = []\n",
    "    E_measures = []\n",
    "    for ranking in P_rankings:\n",
    "        P_measures.append(precision_k(ranking))\n",
    "    for ranking in E_rankings:\n",
    "        E_measures.append(precision_k(ranking))\n",
    "    return E_measures,P_measures\n",
    "  \n",
    "def get_nDCG_measures(dataset, k):\n",
    "    E_rankings, P_rankings = dataset\n",
    "    P_measures = []\n",
    "    E_measures = []\n",
    "    for ranking in P_rankings:\n",
    "        P_measures.append(nDCG_k(ranking,k))\n",
    "    for ranking in E_rankings:\n",
    "        E_measures.append(nDCG_k(ranking,k))\n",
    "    return E_measures,P_measures\n",
    "  \n",
    "def get_ERR_measures(dataset):\n",
    "    E_rankings, P_rankings = dataset\n",
    "    P_measures = []\n",
    "    E_measures = []\n",
    "    for ranking in P_rankings:\n",
    "        P_measures.append(ERR(ranking))\n",
    "    for ranking in E_rankings:\n",
    "        E_measures.append(ERR(ranking))\n",
    "    return E_measures,P_measures\n",
    "  \n",
    "def randomization_test(E_measures, P_measures,N):\n",
    "    E_mean = np.mean(E_measures)\n",
    "    P_mean = np.mean(P_measures)\n",
    "    mean_difference = E_mean - P_mean\n",
    "    \n",
    "    random_delta_means = []\n",
    "    for i in range(N): #perform 1000 randomizations\n",
    "        d1, d2 = randomly_mix(E_measures, P_measures)\n",
    "        random_delta_mean = np.mean(d1) - np.mean(d2)\n",
    "        random_delta_means.append(random_delta_mean)\n",
    "    \n",
    "    higher_mean_ctr = 0\n",
    "    for mean in random_delta_means:\n",
    "        if mean > mean_difference:\n",
    "            higher_mean_ctr +=1\n",
    "    # Proportion of random means being higher than actual mean:\n",
    "    p = higher_mean_ctr / N\n",
    "    return p, random_delta_means, mean_difference\n",
    "    \n",
    "def randomly_mix(dataset_1, dataset_2):\n",
    "    full_data = dataset_1 + dataset_2\n",
    "    n = len(dataset_1)    \n",
    "    random_sets = np.random.choice(full_data, replace=False, size=(2,n))\n",
    "    return random_sets\n",
    "\n",
    "def plot_randomization_hist(p,random_delta_means, actual_delta_mean, title):\n",
    "    plt.title(title)\n",
    "    x = random_delta_means\n",
    "    plt.hist(x, bins=50)\n",
    "    plt.axvline(actual_delta_mean,color='r')\n",
    "    plt.xlabel('Randomized delta mean distribution. Red line shows the sample delta mean.')\n",
    "    text_str = \"P(r > s)={}\".format(p)\n",
    "    plt.text(np.amax(x)*0.6,40,text_str)\n",
    "    plt.show()\n",
    "    \n",
    "def plot_randomization_test(E_measures, P_measures,title):\n",
    "    p, random_delta_means, actual_delta_mean = randomization_test(E_measures, P_measures,1000)\n",
    "    plot_randomization_hist(p,random_delta_means, actual_delta_mean,title)\n",
    "    \n",
    "precision_E_measures, precision_P_measures = get_precision_measures(dataset)\n",
    "plot_randomization_test(precision_E_measures,precision_P_measures,'Fig. 4.a: Randomization test Precision measure')\n",
    "\n",
    "nDCG_E_measures, nDCG_P_measures = get_nDCG_measures(dataset,5)\n",
    "plot_randomization_test(nDCG_E_measures,nDCG_P_measures,'Fig. 4.b: Randomization test nDCG@5 measure')\n",
    "\n",
    "ERR_E_measures, ERR_P_measures = get_ERR_measures(dataset)\n",
    "plot_randomization_test(ERR_E_measures,ERR_P_measures,'Fig. 4.c: Randomization test ERR measure')\n",
    "print(\"P(r>s) in this graph is the proportion of random delta measure means \\n that \" \n",
    "       +\"that are higher than the sample delta measure mean\")\n",
    "\n",
    "    "
   ]
  },
  {
   "cell_type": "code",
   "execution_count": 26,
   "metadata": {
    "colab": {
     "autoexec": {
      "startup": false,
      "wait_interval": 0
     }
    },
    "colab_type": "code",
    "id": "yVKCoRrLbOE6"
   },
   "outputs": [
    {
     "name": "stdout",
     "output_type": "stream",
     "text": [
      "Sample proportion is 0.5008699105718393\n",
      "Calculated Z value is 1.1581891476681012\n",
      "The critical value for alpha = 5% is 1.645\n",
      "There is no evidence to support whether the sample proportion is significantly different than the target mean, since the calculated Z value does not lie in the rejection region.\n",
      "Sample proportion is 0.5010910536938767\n",
      "Calculated Z value is 1.6881446171480914\n",
      "The critical value for alpha = 5% is 1.645\n",
      "The sample proportion is significantly greater than the target proportion of 0.5\n"
     ]
    }
   ],
   "source": [
    "# ONLINE PROPORTIONS TEST\n",
    "def get_global_proportion(dataset, interleaving_algo, click_model, N):\n",
    "    '''\n",
    "    dataset: list of 2 elements, E_rankings and P_rankings, each of which is a ranked list of documents\n",
    "    interleaving algo: object of type InterleavingAlgorithm\n",
    "    N: number of runs to run each ranking before deciding winner \n",
    "    \n",
    "    return: list of proportions (floats) of that E won over P for each ranking\n",
    "    \n",
    "    For a given dataset, interleaving algorithm and a click model\n",
    "    the function outputs the proportion of times E wins over P for each ranking\n",
    "    given N simulations\n",
    "    '''\n",
    "    E_rankings, P_rankings = dataset\n",
    "    interleaved_rankings = interleave_rankings(P_rankings, E_rankings,\n",
    "                                                interleaving_algo)\n",
    "    # Train the click model on Yandex Click Log\n",
    "    data =get_yandex_actions()\n",
    "    click_model.learn_parameters(data)\n",
    "    \n",
    "    results = []\n",
    "    E_wins = 0\n",
    "    P_wins = 0\n",
    "    for ranking in interleaved_rankings:\n",
    "        \n",
    "        # Simulate clicks N times per interleaved ranking\n",
    "        for run in range(N):\n",
    "            win, draw, lose = get_wins(ranking, click_model)\n",
    "            E_wins += win\n",
    "            P_wins += lose\n",
    "            # Only consider runs where either E or P was better\n",
    "    n = E_wins + P_wins\n",
    "        \n",
    "    proportion = E_wins/n    \n",
    "        \n",
    "    \n",
    "    # Results here are per query, the proportion that E wins over P\n",
    "    return proportion, n\n",
    "\n",
    "\n",
    "def proportions_test(p_hat, n, p_null):\n",
    "    \n",
    "    print(\"Sample proportion is {}\".format(p_hat))\n",
    "    z = (p_hat - p_null)/np.sqrt((p_null*(1-p_null)/n))\n",
    "    print(\"Calculated Z value is {}\".format(z))\n",
    "    critical_value = 1.645 # for alpha=5%\n",
    "    print(\"The critical value for alpha = 5% is {}\".format(critical_value))\n",
    "    if np.abs(z) > critical_value: # probability of finding the sample mean is small\n",
    "        if z > 0:\n",
    "          print(\"The sample proportion is significantly greater than the target proportion of {}\".format(p_null))\n",
    "        else:\n",
    "          print(\"The sample proportion is significantly smaller than the target proportion of {}\".format(p_null))\n",
    "    else:\n",
    "        print(\"There is no evidence to support whether the sample proportion is significantly\" \n",
    "              + \" different than the target proportion, since the calculated Z value does not\" \n",
    "              + \" lie in the rejection region.\")\n",
    "rcm_proportion, rcm_n = get_global_proportion(dataset,tmi,rcm, 100)\n",
    "sdcm_proportion, sdcm_n = get_global_proportion(dataset,tmi,sdcm, 100)\n",
    "\n",
    "proportions_test(rcm_proportion,rcm_n,0.5)\n",
    "proportions_test(sdcm_proportion,sdcm_n,0.5)\n",
    "    \n"
   ]
  },
  {
   "cell_type": "markdown",
   "metadata": {
    "colab_type": "text",
    "id": "Tmu8pv3YAG6u"
   },
   "source": [
    "###Step 7: Results and Analysis\n",
    "\n",
    "In order to find out whether the offline measures correlate with the online measures we:\n",
    "* use the E and P pairs generated previously\n",
    "* for each click model (Random Click Model (RCM) or Simple Dependent Click Model (SDCM)):\n",
    "  * We plot a graph that contains 3 scatter plots such that for each offline evaluation measure ( precision@5, nDCG@5, ERR):\n",
    "    * for each pair ranking pair (E, P):\n",
    "      *  Plot the delta measure of the offline method against the proportional measure of the online method\n",
    "\n",
    "The results are shown in figure 1 and figure 2.\n",
    "\n",
    "Delta measure = the difference in measurement between two offline methods\n",
    "\n",
    "Proportional measure = the proportion of time E outperforms P in an online experiment for the same ranking over N runs where we chose N arbitrarily to be 100\n",
    "\n",
    "Due to the fact that these graphs look very crowded we cannot conclude the correlation between the measures. To better understand our values we divided the delta measures of the offline methods into buckets of size 0.01 and we plotted the average proportional value of the online method. This shows a more conclusive graph in terms of correlation between the online and the offline measures, while the previous graph tells us the variance from the mean is not negligible.\n",
    "\n",
    "The experiment was run on the Random Click Model and on the Simple Dependent Click Model. The former was done in order to asses that our experiment were run correctly and a as a baseline. We can see that the points in the RCM case are evenly spread and a that their proportional average is close to 0.5 for each bucket of delta values. \n",
    "This makes sense because the random click model makes arbitrary choices in terms of which ranked document it clicks. Therefore with a large enough sample size there should be no preference for either algorithm E or P, given that the interleaving algorithm evenly distributes the ranked documents over the interleaved ranking. Finding almost all proportions for the random click model to be close to 0.5 shows that our interleaving algorithm does in fact do that.\n",
    "\n",
    "The the error bars  in Fig. 3 show the result of the boostrap 95% confidence interval for each Click Model against each offline evaluation method pair. Again both confidence intervals are not above or below zero for offline or 0.5 for online evaluations, which demonstrate that there is not signficant preference for any evaluation for either algorithm E or P.\n",
    "\n",
    "Next to looking at the correlation between the delta measure for offline evaluations and proportions for online evaluations, we looked at the significance of the findings of each evaluation separately. \n",
    "For the offline evaluations we performed a randomization test as illustrated in figure 4,which showed that none of the three offline measures showed a significant preference for either algorithm E or P (proportion of random sample means that was higher than the sample mean was at best 17%, which is much higher than the target of 5%.)\n",
    "For online evaluations we performed a proportions test where we take for all the ranking pairs, and all the N(=100) runs per pair the number of times E wins divided by (E wins + P wins). This gives us a sample proportion for which we will test significance of alpha=5%. For both click models the Z-value calculated did not lie in the rejection region for $H_{0}: p=0.5$. Therefore for the online evaluation we conclude the same findings for the offline experiments; there is no significant preference for algorithm E or P.\n",
    "\n",
    "Given all of our findings we conclude that the offline evaluations agree with the online evaluations."
   ]
  },
  {
   "cell_type": "code",
   "execution_count": null,
   "metadata": {},
   "outputs": [],
   "source": []
  }
 ],
 "metadata": {
  "colab": {
   "collapsed_sections": [],
   "default_view": {},
   "name": "IR1_HW1.ipynb",
   "provenance": [],
   "version": "0.3.2",
   "views": {}
  },
  "kernelspec": {
   "display_name": "Python 3",
   "language": "python",
   "name": "python3"
  },
  "language_info": {
   "codemirror_mode": {
    "name": "ipython",
    "version": 3
   },
   "file_extension": ".py",
   "mimetype": "text/x-python",
   "name": "python",
   "nbconvert_exporter": "python",
   "pygments_lexer": "ipython3",
   "version": "3.5.2"
  }
 },
 "nbformat": 4,
 "nbformat_minor": 1
}
